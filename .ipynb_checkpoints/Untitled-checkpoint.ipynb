{
 "cells": [
  {
   "cell_type": "code",
   "execution_count": 8,
   "metadata": {},
   "outputs": [],
   "source": [
    "import cv2 as cv\n",
    "from datetime import datetime"
   ]
  },
  {
   "cell_type": "code",
   "execution_count": 9,
   "metadata": {},
   "outputs": [
    {
     "data": {
      "text/plain": [
       "[datetime.datetime(2020, 12, 24, 14, 19, 35, 344792),\n",
       " datetime.datetime(2020, 12, 24, 14, 19, 46, 642978),\n",
       " datetime.datetime(2020, 12, 24, 14, 20, 2, 2676),\n",
       " datetime.datetime(2020, 12, 24, 14, 20, 18, 627427),\n",
       " datetime.datetime(2020, 12, 24, 14, 20, 35, 25939)]"
      ]
     },
     "execution_count": 9,
     "metadata": {},
     "output_type": "execute_result"
    }
   ],
   "source": [
    "video=cv.VideoCapture(0)\n",
    "first_frame=None\n",
    "status=0\n",
    "status_list=[None,None]\n",
    "time=[]\n",
    "while True:\n",
    "    status=0\n",
    "    _,frame=video.read()\n",
    "    gray=cv.cvtColor(frame,cv.COLOR_BGR2GRAY)\n",
    "    gray=cv.GaussianBlur(gray,(21,21),0)\n",
    "    \n",
    "    if first_frame is None:\n",
    "        first_frame=gray\n",
    "        continue\n",
    "    \n",
    "    delta_frame=cv.absdiff(first_frame,gray)\n",
    "    \n",
    "    thresh_frame=cv.threshold(delta_frame,30,255,cv.THRESH_BINARY)[1]\n",
    "    thresh_frame=cv.dilate(thresh_frame,None,iterations=0)\n",
    "    \n",
    "#     face_cascade=cv.CascadeClassifier(\"haarcascade_frontalface_default.xml\")\n",
    "#     faces=face_cascade.detectMultiScale(gray,scaleFactor=1.1,minNeighbors=5)\n",
    "    \n",
    "#     for x,y,w,h in faces:\n",
    "#         cv.rectangle(frame,(x,y),(x+w,y+h),(0,255,0),3)\n",
    "    \n",
    "    cnts,_=cv.findContours(thresh_frame,cv.RETR_EXTERNAL,cv.CHAIN_APPROX_SIMPLE)\n",
    "    \n",
    "    for contour in cnts:\n",
    "        if cv.contourArea(contour)<2000:\n",
    "            continue\n",
    "            \n",
    "        status=1\n",
    "        \n",
    "        (x,y,w,h)=cv.boundingRect(contour)\n",
    "        cv.rectangle(frame,(x,y),(x+w,y+h),(0,255,0),3)\n",
    "        \n",
    "    status_list.append(status)\n",
    "    status_list=status_list[-2:]\n",
    "    \n",
    "    if status_list[-1]==0 and status_list[-2]==1:\n",
    "        time.append(datetime.now())\n",
    "    if status_list[-1]==1 and status_list[-2]==0:\n",
    "        time.append(datetime.now())\n",
    "    \n",
    "    cv.imshow(\"Video\",frame)\n",
    "    cv.imshow(\"Gray\",gray)\n",
    "    cv.imshow(\"Delta\",delta_frame)\n",
    "    cv.imshow(\"Thresh\",thresh_frame)\n",
    "    \n",
    "    key=cv.waitKey(1)\n",
    "    if key==ord('q'):\n",
    "        break\n",
    "\n",
    "video.release()\n",
    "cv.destroyAllWindows()\n",
    "\n",
    "time"
   ]
  },
  {
   "cell_type": "code",
   "execution_count": null,
   "metadata": {},
   "outputs": [],
   "source": []
  }
 ],
 "metadata": {
  "kernelspec": {
   "display_name": "Python 3",
   "language": "python",
   "name": "python3"
  },
  "language_info": {
   "codemirror_mode": {
    "name": "ipython",
    "version": 3
   },
   "file_extension": ".py",
   "mimetype": "text/x-python",
   "name": "python",
   "nbconvert_exporter": "python",
   "pygments_lexer": "ipython3",
   "version": "3.9.0"
  }
 },
 "nbformat": 4,
 "nbformat_minor": 4
}
