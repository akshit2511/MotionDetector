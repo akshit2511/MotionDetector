{
 "cells": [
  {
   "cell_type": "code",
   "execution_count": 1,
   "metadata": {},
   "outputs": [],
   "source": [
    "import cv2 as cv\n",
    "from datetime import datetime"
   ]
  },
  {
   "cell_type": "code",
   "execution_count": 2,
   "metadata": {},
   "outputs": [
    {
     "name": "stdout",
     "output_type": "stream",
     "text": [
      "[0]\n"
     ]
    },
    {
     "data": {
      "text/plain": [
       "[datetime.datetime(2020, 12, 24, 15, 48, 33, 29813),\n",
       " datetime.datetime(2020, 12, 24, 15, 48, 39, 797107),\n",
       " datetime.datetime(2020, 12, 24, 15, 48, 47, 16407),\n",
       " datetime.datetime(2020, 12, 24, 15, 48, 50, 948908),\n",
       " datetime.datetime(2020, 12, 24, 15, 48, 59, 173859),\n",
       " datetime.datetime(2020, 12, 24, 15, 49, 5, 925024),\n",
       " datetime.datetime(2020, 12, 24, 15, 49, 10, 724594),\n",
       " datetime.datetime(2020, 12, 24, 15, 49, 16, 133077)]"
      ]
     },
     "execution_count": 2,
     "metadata": {},
     "output_type": "execute_result"
    }
   ],
   "source": [
    "video=cv.VideoCapture(0)\n",
    "first_frame=None\n",
    "status=0\n",
    "status_list=[None,None]\n",
    "\n",
    "starting_time=datetime.now()\n",
    "time=[starting_time]\n",
    "isObjectPresent=[0]\n",
    "\n",
    "while True:\n",
    "    status=0\n",
    "    _,frame=video.read()\n",
    "    gray=cv.cvtColor(frame,cv.COLOR_BGR2GRAY)\n",
    "    gray=cv.GaussianBlur(gray,(21,21),0)\n",
    "    \n",
    "    if first_frame is None:\n",
    "        first_frame=gray\n",
    "        \n",
    "        print(isObjectPresent)\n",
    "        continue\n",
    "    \n",
    "    delta_frame=cv.absdiff(first_frame,gray)\n",
    "    \n",
    "    thresh_frame=cv.threshold(delta_frame,30,255,cv.THRESH_BINARY)[1]\n",
    "    thresh_frame=cv.dilate(thresh_frame,None,iterations=0)\n",
    "\n",
    "    \n",
    "    cnts,_=cv.findContours(thresh_frame,cv.RETR_EXTERNAL,cv.CHAIN_APPROX_SIMPLE)\n",
    "    \n",
    "    for contour in cnts:\n",
    "        if cv.contourArea(contour)<2000:\n",
    "            continue\n",
    "            \n",
    "        status=1\n",
    "        \n",
    "        (x,y,w,h)=cv.boundingRect(contour)\n",
    "        cv.rectangle(frame,(x,y),(x+w,y+h),(0,255,0),3)\n",
    "        \n",
    "    status_list.append(status)\n",
    "    status_list=status_list[-2:]\n",
    "    \n",
    "    if status_list[-1]==0 and status_list[-2]==1:\n",
    "        time.append(datetime.now())\n",
    "        isObjectPresent.append(0)\n",
    "        \n",
    "    if status_list[-1]==1 and status_list[-2]==0:\n",
    "        time.append(datetime.now())\n",
    "        isObjectPresent.append(1)\n",
    "    \n",
    "    cv.imshow(\"Video\",frame)\n",
    "    cv.imshow(\"Gray\",gray)\n",
    "    cv.imshow(\"Delta\",delta_frame)\n",
    "    cv.imshow(\"Thresh\",thresh_frame)\n",
    "    \n",
    "    key=cv.waitKey(1)\n",
    "    if key==ord('q'):\n",
    "        break\n",
    "\n",
    "video.release()\n",
    "cv.destroyAllWindows()\n",
    "\n",
    "time"
   ]
  },
  {
   "cell_type": "code",
   "execution_count": 3,
   "metadata": {},
   "outputs": [
    {
     "data": {
      "text/plain": [
       "[datetime.timedelta(0),\n",
       " datetime.timedelta(seconds=6, microseconds=767294),\n",
       " datetime.timedelta(seconds=13, microseconds=986594),\n",
       " datetime.timedelta(seconds=17, microseconds=919095),\n",
       " datetime.timedelta(seconds=26, microseconds=144046),\n",
       " datetime.timedelta(seconds=32, microseconds=895211),\n",
       " datetime.timedelta(seconds=37, microseconds=694781),\n",
       " datetime.timedelta(seconds=43, microseconds=103264)]"
      ]
     },
     "execution_count": 3,
     "metadata": {},
     "output_type": "execute_result"
    }
   ],
   "source": [
    "delta_time=[x-starting_time for x in time]\n",
    "delta_time\n"
   ]
  },
  {
   "cell_type": "code",
   "execution_count": 4,
   "metadata": {},
   "outputs": [
    {
     "data": {
      "text/plain": [
       "[0, 1, 0, 1, 0, 1, 0, 1]"
      ]
     },
     "execution_count": 4,
     "metadata": {},
     "output_type": "execute_result"
    }
   ],
   "source": [
    "isObjectPresent"
   ]
  },
  {
   "cell_type": "code",
   "execution_count": 5,
   "metadata": {},
   "outputs": [
    {
     "data": {
      "text/plain": [
       "[0.0,\n",
       " 6.767294,\n",
       " 13.986594,\n",
       " 17.919095,\n",
       " 26.144046,\n",
       " 32.895211,\n",
       " 37.694781,\n",
       " 43.103264]"
      ]
     },
     "execution_count": 5,
     "metadata": {},
     "output_type": "execute_result"
    }
   ],
   "source": [
    "X = []\n",
    "for t in delta_time:\n",
    "    X.append(t.total_seconds())\n",
    "X"
   ]
  },
  {
   "cell_type": "code",
   "execution_count": 6,
   "metadata": {},
   "outputs": [
    {
     "data": {
      "text/plain": [
       "[0, 6, 13, 17, 26, 32, 37, 43]"
      ]
     },
     "execution_count": 6,
     "metadata": {},
     "output_type": "execute_result"
    }
   ],
   "source": [
    "X=[int(i) for i in X]\n",
    "X"
   ]
  },
  {
   "cell_type": "code",
   "execution_count": 7,
   "metadata": {},
   "outputs": [],
   "source": [
    "import numpy as np\n",
    "\n",
    "X=np.array(X)\n",
    "y=np.array(isObjectPresent)\n",
    "indices_one= y==1\n",
    "indices_zero= y==0\n",
    "y[indices_one]=0\n",
    "y[indices_zero]=1"
   ]
  },
  {
   "cell_type": "code",
   "execution_count": 12,
   "metadata": {},
   "outputs": [
    {
     "data": {
      "text/plain": [
       "Text(0, 0.5, 'Object is Present or not')"
      ]
     },
     "execution_count": 12,
     "metadata": {},
     "output_type": "execute_result"
    },
    {
     "data": {
      "image/png": "[encoded data removed]",
      "text/plain": [
       "<Figure size 432x288 with 1 Axes>"
      ]
     },
     "metadata": {
      "needs_background": "light"
     },
     "output_type": "display_data"
    }
   ],
   "source": [
    "import matplotlib.pyplot as plt\n",
    "%matplotlib inline\n",
    "\n",
    "plt.step(X,y)\n",
    "plt.xlabel(\"Time in seconds\")\n",
    "plt.ylabel(\"Object is Present or not\")"
   ]
  },
  {
   "cell_type": "code",
   "execution_count": null,
   "metadata": {},
   "outputs": [],
   "source": []
  }
 ],
 "metadata": {
  "kernelspec": {
   "display_name": "Python 3",
   "language": "python",
   "name": "python3"
  },
  "language_info": {
   "codemirror_mode": {
    "name": "ipython",
    "version": 3
   },
   "file_extension": ".py",
   "mimetype": "text/x-python",
   "name": "python",
   "nbconvert_exporter": "python",
   "pygments_lexer": "ipython3",
   "version": "3.9.0"
  }
 },
 "nbformat": 4,
 "nbformat_minor": 4
}
